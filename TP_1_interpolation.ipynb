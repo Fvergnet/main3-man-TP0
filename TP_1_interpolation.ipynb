{
 "cells": [
  {
   "cell_type": "markdown",
   "metadata": {},
   "source": [
    "---\n",
    "\n",
    "# TP 1 : Interpolation polynômiale\n",
    "\n",
    "<b>Polytech Sorbonne, Main 3</b><br>\n",
    "Analyse numérique et EDO<br>\n",
    "Auteur : Fabien Vergnet\n",
    "\n",
    "---"
   ]
  },
  {
   "cell_type": "markdown",
   "metadata": {},
   "source": [
    "## Table des matières\n",
    "\n",
    "- [Exercice 1 : Interpolation de Lagrange par inversion de système linéaire](#invsyslin)\n",
    "- [Exercice 2 : Interpolation de Lagrange par différences divisées](#diffdiv)\n",
    "- [Exercice 3 : Interpolation de Hermite](#hermite)\n",
    "- [Exercice 4 : Points de Tchebychev vs points équidistants](#tcheby)\n",
    "- [Exercice 5 : Phénomène de Runge](#runge)"
   ]
  },
  {
   "cell_type": "code",
   "execution_count": 1,
   "metadata": {},
   "outputs": [],
   "source": [
    "import numpy as np                # Librairie pour le calcul scientifique\n",
    "import matplotlib.pyplot as plt   # Librairie graphique\n"
   ]
  },
  {
   "cell_type": "markdown",
   "metadata": {},
   "source": [
    "<a id=\"invsyslin\"></a>\n",
    "## Exercice 1 : Interpolation de Lagrange par inversion de système linéaire\n",
    "1. Définir une fonction `polyval` qui prend en argument :\n",
    " - un vecteur de points de taille $n$, $x = (x_i)_{0 \\leq i < n}$,\n",
    " - un tableau de coefficients polynômiaux de taille $m$, $a = (a_i)_{0\\leq i < m}$, \n",
    " \n",
    "  et qui retourne un tableau de taille $n$ contenant les évaluations aux points $(x_i)_{0\\leq i\\leq n}$ du polynôme $p$ défini par $$ p(x) = a_0 + a_1 x + \\dots + a_m x^m, ~~~~\\forall x\\in\\mathbb{R}.$$\n",
    "\n",
    "  Tester la fonction en traçant sur la même figure les graphes des polynômes $p_1(x)= 5*x^2 + 2$ et $p_2(x)= 0.1*x^4 + 3x^2$ sur l'intervalle $[-10,10]$."
   ]
  },
  {
   "cell_type": "code",
   "execution_count": 30,
   "metadata": {},
   "outputs": [
    {
     "data": {
      "image/png": "[encoded data removed]",
      "text/plain": [
       "<Figure size 432x288 with 1 Axes>"
      ]
     },
     "metadata": {
      "needs_background": "light"
     },
     "output_type": "display_data"
    },
    {
     "name": "stdout",
     "output_type": "stream",
     "text": [
      "7.84 ms ± 66.5 µs per loop (mean ± std. dev. of 7 runs, 100 loops each)\n",
      "17.1 µs ± 96.9 ns per loop (mean ± std. dev. of 7 runs, 100000 loops each)\n"
     ]
    }
   ],
   "source": [
    "def polyval(x,a):\n",
    "    y = np.zeros(x.size)\n",
    "    for i in range(a.size):\n",
    "        for j in range(x.size):\n",
    "            y[j] += a[i]*x[j]**i\n",
    "    return y\n",
    "\n",
    "# Pour vérifier la fonction polyval, je trace les graphes de polynomes p_1 et p_2.\n",
    "# Je n'oublie pas d'ajouter un titre et une légende\n",
    "\n",
    "x = np.linspace(-10,10,100)\n",
    "p1 = polyval(x,np.array([2,0,5]))\n",
    "p2 = polyval(x,np.array([0,0,3,0.1]))\n",
    "plt.plot(x,p1,label='$p_1$')\n",
    "plt.plot(x,p2, label='$p_2$')\n",
    "plt.legend(loc='lower right')\n",
    "plt.title(\"Graphe des polynômes $p_1$ et $p_2$\")\n",
    "plt.show()\n",
    "\n",
    "# On peut également définir une version vectorielle pour cette fonction\n",
    "def polyvalVec(x,a):\n",
    "    y = np.zeros(x.size)\n",
    "    for i in range(a.size):\n",
    "        y += a[i]*x**i\n",
    "    return y\n",
    "\n",
    "# A titre d'information, on peut comparer les vitesses d'éxecution des deux fonctions\n",
    "x2 = np.linspace(0,1,1000)\n",
    "%timeit polyval(x2,np.array([2,0,5]))\n",
    "%timeit polyvalVec(x2,np.array([2,0,5]))"
   ]
  },
  {
   "cell_type": "markdown",
   "metadata": {},
   "source": [
    "2. Définir une fonction `buildmatrix` qui à partir d’un vecteur de points de taille $n + 1$, $\\xi = (\\xi_i)_{0\\leq i \\leq n}$, et retourne la matrice $V$ trouvée dans l’exercice 3 de la feuille de TD 1."
   ]
  },
  {
   "cell_type": "code",
   "execution_count": 32,
   "metadata": {},
   "outputs": [
    {
     "name": "stdout",
     "output_type": "stream",
     "text": [
      "[[1. 1. 1.]\n",
      " [1. 2. 4.]\n",
      " [1. 3. 9.]]\n",
      "[[1 1 1]\n",
      " [1 2 4]\n",
      " [1 3 9]]\n",
      "547 ms ± 3.59 ms per loop (mean ± std. dev. of 7 runs, 1 loop each)\n",
      "500 ms ± 2.49 ms per loop (mean ± std. dev. of 7 runs, 1 loop each)\n"
     ]
    }
   ],
   "source": [
    "def buildmatrix(xi):\n",
    "    V = np.zeros((xi.size,xi.size))\n",
    "    for i in range(xi.size):\n",
    "        for j in range(xi.size):\n",
    "            V[i,j] = xi[i]**j\n",
    "    return V\n",
    "\n",
    "# On peut également définir une version \"à la numpy\" pour la fonction buildmatrix\n",
    "def buildmatrixNumpy(xi):\n",
    "    V = np.array([[xi[i]**j for j in range(xi.size)] for i in range(xi.size)])\n",
    "    return V\n",
    "\n",
    "# Je teste ces deux fonctions\n",
    "xi = np.array([1,2,3])\n",
    "v = buildmatrix(xi)\n",
    "print(v)\n",
    "v = buildmatrixNumpy(xi)\n",
    "print(v)\n",
    "\n",
    "# A titre d'information, on peut comparer les vitesses d'éxecution des deux fonctions\n",
    "xi2 = np.linspace(0,1,1000)\n",
    "%timeit buildmatrix(xi2)\n",
    "%timeit buildmatrixNumpy(xi2)"
   ]
  },
  {
   "cell_type": "markdown",
   "metadata": {},
   "source": [
    "3. Définir une fonction `solvelagrangesystem` qui à partir de deux vecteurs $\\xi$ et $y$ (de même taille $n+1$) calcule les coefficients polynomiaux du polynôme $p_n$ d’interpolation de Lagrange aux points $(\\xi_i, y_i)$ pour tout $i \\in \\{0,\\dots,n\\}$. \n",
    "\n",
    "  On pourra utiliser la fonction `np.linalg.solve(V,y)` pour mettre en oeuvre la résolution du système linéaire $Va = y$, où $a$ est le tableau contenant les coefficients polynomiaux de $p_n$."
   ]
  },
  {
   "cell_type": "code",
   "execution_count": 33,
   "metadata": {},
   "outputs": [
    {
     "name": "stdout",
     "output_type": "stream",
     "text": [
      "True\n"
     ]
    }
   ],
   "source": [
    "def solvelagrangesystem(xi,y):\n",
    "    V = buildmatrix(xi)\n",
    "    a = np.linalg.solve(V,y)\n",
    "    return a\n",
    "\n",
    "# Pour tester la fonction, je choisi un vecteur y aléatoirement avec la fonction np.random.rand\n",
    "y = np.random.rand(xi.size)\n",
    "# J'appelle la fonction solvelagrangesystem\n",
    "a = solvelagrangesystem(xi,y)\n",
    "# Pour vérifier le résultat, je check que le polynome obtenu vaut bien y[i] au point x[i]\n",
    "# Pour cela j'utilise la fonction polyval et la fonction np.allclose qui rend \"True\" si l'élément p[i] du vecteur p ci-dessous est égal à y[i] (à l'erreur machine près) \n",
    "p = polyval(xi,a)\n",
    "print(np.allclose(p,y))"
   ]
  },
  {
   "cell_type": "markdown",
   "metadata": {},
   "source": [
    "4. Soit $f$ une fonction de $\\mathbb{R}$ dans $\\mathbb{R}$. En utilisant les fonctions Python `solvelagrangesystem` et `polyval`, définir une fonction `lagrangeinterp` qui prend en argument :\n",
    "  - un vecteur de points d'interpolations de taille $n+1$, $\\xi = \\xi_{1 \\leq n+1}$,\n",
    "  - le vecteur des valeurs de la fonction $f$ aux points d'interpolation, de taille $n+1$, $y = (f(\\xi_i))_{1\\leq i \\leq n+1}$,\n",
    "  - un vecteur de points de taille $m$, $x=(x_i)_{1\\leq i \\leq m}$,\n",
    " \n",
    "  et qui retourne le vecteur de taille $m$ contenant les valeurs du polynôme interpolateur de Newton aux points d'interpolation $(\\xi_i)$, évalué aux points $(x_i)$."
   ]
  },
  {
   "cell_type": "code",
   "execution_count": 44,
   "metadata": {},
   "outputs": [
    {
     "name": "stdout",
     "output_type": "stream",
     "text": [
      "True\n"
     ]
    }
   ],
   "source": [
    "def lagrangeinterp(xi,y,x):\n",
    "    a = solvelagrangesystem(xi,y)\n",
    "    p = polyval(x,a)\n",
    "    return p\n",
    "\n",
    "# Pour tester cette fonction, je vais interpoler la fonction f(x)=3*x+2 aux points -1 et 1\n",
    "# Comme f est un polynome de degré 1, son polynome interpolateur de Lagrange en deux points et aussi un polynome de degré 1\n",
    "# Le polynome interpolateur de Lagrange est donc forcément égal à f\n",
    "xi = np.array([-1,1])\n",
    "y = 3*xi+2\n",
    "x = np.linspace(0,1,100)\n",
    "p = lagrangeinterp(xi,y,x)\n",
    "# Et on vérifie que p[i] et bien égal à 3*x[i]+2 pour tout i\n",
    "print(np.allclose(p,3*x+2))\n"
   ]
  },
  {
   "cell_type": "markdown",
   "metadata": {},
   "source": [
    "5. Soit $f(x) = sin(2x^2)$. Déterminer le polynôme d'interpolation de Lagrange de $f$ pour $n+1$ points uniformément répartis sur $[0, 1]$. \n",
    "\n",
    "  Tracer sur une même figure les graphes de la fonction $f$ et du polynôme $p_n$ en les évaluant sur un maillage plus fin (prendre par exemple $4(n+1)$ points). \n",
    "  \n",
    "  Faire varier le nombre de points $n$ pour comparer. Prendre, par exemple $n=2$, $n=3$, $n=4$."
   ]
  },
  {
   "cell_type": "code",
   "execution_count": 43,
   "metadata": {
    "scrolled": false
   },
   "outputs": [
    {
     "data": {
      "image/png": "[encoded data removed]",
      "text/plain": [
       "<Figure size 1440x720 with 1 Axes>"
      ]
     },
     "metadata": {
      "needs_background": "light"
     },
     "output_type": "display_data"
    }
   ],
   "source": [
    "N = 3\n",
    "xi = np.linspace(0,1,N+1)\n",
    "\n",
    "def f(x):\n",
    "    return np.sin(2*x**2)\n",
    "\n",
    "x = np.linspace(0,1,4*(N+1))\n",
    "p = lagrangeinterp(xi,f(xi),x)\n",
    "\n",
    "plt.figure(figsize=[20,10])\n",
    "plt.plot(xi,f(xi),'k+')\n",
    "plt.plot(x,f(x),'b-',label='$f$')\n",
    "plt.plot(x,p,'r--',label='$p_n$')\n",
    "plt.title(\"La fonction $f$ et son polynôme interpolateur de Lagrange\")\n",
    "plt.legend()\n",
    "plt.show()\n",
    "\n",
    "# Je n'oublie par donner un titre et une légende à ma figure"
   ]
  },
  {
   "cell_type": "markdown",
   "metadata": {},
   "source": [
    "<a id=\"diffdiv\"></a>\n",
    "## Exercice 2 : Interpolation de Lagrange par différences divisées\n",
    "\n",
    "Dans cet exercice, on veut construire un script d’interpolation mettant en oeuvre la formule de Newton pour le calcul des coefficients du polynôme d’interpolation de Lagrange $p_n$ d’une fonction $f$ aux points $(\\xi_i)_{1 \\leq i \\leq n+1}$, et l’algorithme d’Horner pour l’évaluation de celui-ci.\n",
    "\n",
    "1. Définir une fonction `diffdiv` qui, à partir d’un vecteur $\\xi = (\\xi_i)$ et un vecteur $y = (f(\\xi_i))_{1\\leq i \\leq n+1}$ rend un vecteur $d = (d_i)_{1 \\leq i \\leq n+1}$, avec $d_i = f[\\xi_1, \\dots , \\xi_i]$. On rappelle l’algorithme vu en cours :\n",
    "\n",
    "    - pour $i$ de 1 à $n+1$ : $d_i = f(\\xi_i)$,\n",
    "    - pour $k$ de 2 à $n+1$ :\n",
    "        - pour i de $n+1$ à $k$ : $d_i \\leftarrow \\dfrac{d_i - d_{i-1}}{\\xi_i - \\xi_{i-k}}$.  \n",
    "        \n",
    "  Pour tester la fonction, on pourra (à la main) construire le polynôme d'interpolation de Newton aux points $\\{(0,1),(2,5),(4,17)\\}$.\n",
    "        \n",
    "  **Attention, on rappelle que les indices des tableaux commence à 0 en Python !**"
   ]
  },
  {
   "cell_type": "code",
   "execution_count": null,
   "metadata": {},
   "outputs": [],
   "source": [
    "def diffdiv(xi,y):\n"
   ]
  },
  {
   "cell_type": "markdown",
   "metadata": {},
   "source": [
    "2. Définir une fonction `Horner0` qui prend en argument :\n",
    " - un vecteur de coefficients de taille $n+1$, $d = (d_i)_{1\\leq i \\leq n+1}$ (les différences divisées),\n",
    " - un vecteur de points d'interpolation de taille $n+1$, $\\xi = (\\xi_i)_{1\\leq i \\leq n+1}$,\n",
    " - un réel $x$,\n",
    " \n",
    " et qui retourne la valeur du polynôme $p_n$ d'interpolation de Newton aux points $(\\xi_i)$, évalué aux point $x$, en utilisant l'algorithme de Horner vu en cours :\n",
    " \n",
    " - On pose $p = d_{n+1}$,\n",
    " - Pour $k$ allant de $n$ à 1 :\n",
    "     $p \\leftarrow d_k + (x-\\xi_k)p$."
   ]
  },
  {
   "cell_type": "code",
   "execution_count": null,
   "metadata": {},
   "outputs": [],
   "source": [
    "def Horner0(d,xi,x):\n"
   ]
  },
  {
   "cell_type": "markdown",
   "metadata": {},
   "source": [
    "3. Définir une fonction `Horner` qui étend la fonction Horner0 lorsque $x$ est un vecteur. La fonction rendra donc un vecteur de même taille que $x$."
   ]
  },
  {
   "cell_type": "code",
   "execution_count": null,
   "metadata": {},
   "outputs": [],
   "source": [
    "def Horner(d,xi,x):\n"
   ]
  },
  {
   "cell_type": "markdown",
   "metadata": {},
   "source": [
    "4. Soit $f$ un fonction de $\\mathbb{R}$ dans $\\mathbb{R}$. À partir des fonctions Python précédentes, définir une fonction `interpnewton` qui prend en argument :\n",
    " - un vecteur de points d'interpolations de taille $n+1$, $\\xi = \\xi_{1 \\leq n+1}$,\n",
    " - le vecteur des valeurs de la fonction $f$ aux points d'interpolation, de taille $n+1$, $y = (f(\\xi_i))_{1\\leq i \\leq n+1}$,\n",
    " - un vecteur de points de taille $m$, $x=(x_i)_{1\\leq i \\leq m}$,\n",
    " \n",
    " et qui retourne le vecteur de taille $m$ contenant les valeurs du polynôme interpolateur de Newton aux points d'interpolation $(\\xi_i)$, évalué aux points $(x_i)$."
   ]
  },
  {
   "cell_type": "code",
   "execution_count": null,
   "metadata": {},
   "outputs": [],
   "source": [
    "def newtoninterp(xi,y,x):\n"
   ]
  },
  {
   "cell_type": "markdown",
   "metadata": {},
   "source": [
    "5. Tester cet algorithme pour interpoler une fonction de votre choix (voir exercice 1 par exemple)."
   ]
  },
  {
   "cell_type": "code",
   "execution_count": null,
   "metadata": {},
   "outputs": [],
   "source": []
  },
  {
   "cell_type": "markdown",
   "metadata": {},
   "source": [
    "6. Comparer la performance de cet algorithme avec la méthode utilisée dans l’exercice 1 (par résolution de système linéaire). On pourra utiliser la syntaxe `%timeit` en début de ligne pour obtenir le temps d'évaluation des commandes."
   ]
  },
  {
   "cell_type": "code",
   "execution_count": null,
   "metadata": {
    "scrolled": true
   },
   "outputs": [],
   "source": [
    "%timeit p = newtoninterp(xi,y,x)"
   ]
  },
  {
   "cell_type": "code",
   "execution_count": null,
   "metadata": {
    "scrolled": true
   },
   "outputs": [],
   "source": [
    "%timeit p = lagrangeinterp(xi,y,x)"
   ]
  },
  {
   "cell_type": "markdown",
   "metadata": {},
   "source": [
    "<a id=\"hermite\"></a>\n",
    "## Exercice 3 : Interpolation de Hermite\n",
    "\n",
    "1. Déterminer (à la main) les polynômes $h_0$, $h_1$, $h_2$, $h_3$ vérifiant\n",
    "\n",
    "  $$h_0(0)=1, ~ h_0^{\\prime}(0) = 0, ~ h_0(1) = 0, ~ h_0^{\\prime}(1) = 0,$$ \n",
    "\n",
    "  $$h_1(0)=0, ~ h_1^{\\prime}(0) = 1, ~ h_1(1) = 0, ~ h_1^{\\prime}(1) = 0,$$ \n",
    "\n",
    "  $$h_2(0)=0, ~ h_2^{\\prime}(0) = 0, ~ h_2(1) = 1, ~ h_2^{\\prime}(1) = 0,$$ \n",
    "\n",
    "  $$h_3(0)=0, ~ h_3^{\\prime}(0) = 0, ~ h_3(1) = 0, ~ h_3^{\\prime}(1) = 1.$$ \n",
    "\n",
    "  Définir ensuite les fonctions Python correspondantes."
   ]
  },
  {
   "cell_type": "code",
   "execution_count": null,
   "metadata": {},
   "outputs": [],
   "source": []
  },
  {
   "cell_type": "markdown",
   "metadata": {},
   "source": [
    "2. On considère une fonction $f$ de classe $\\mathcal{C}^1$ sur $[0,1]$. Montrer que le polynôme $q$ de $\\mathcal{P}^3$ vérifiant\n",
    "\n",
    "  $$q(0) = f(0), ~~~~~q^\\prime(0) = f^\\prime(0), ~~~~~q(1) = f(1), ~~~~~q^\\prime(1) = f^\\prime(1),$$\n",
    "\n",
    "  s'écrit sous la forme $$q(x) = f(0)h_0(x) + f^\\prime(0)h_0(x) + f(1)h_2(x) + f^\\prime(1)h_3(x).$$\n",
    "  \n",
    "3. Définir une fonction `hermiteinterp` qui prend en argument :\n",
    "  - une fonction $f$,\n",
    "  - sa dérivée $f^\\prime$,\n",
    "  - un vecteur de points $x = (x_i)_{1\\leq i\\leq n}$ de taille $n$,\n",
    "  \n",
    "  et qui retourne le polynôme d'interpolation de Hermie aux points 0 et 1, évalué aux points $(x_i)$."
   ]
  },
  {
   "cell_type": "code",
   "execution_count": null,
   "metadata": {},
   "outputs": [],
   "source": [
    "def hermiteinterp(f,fprime,x):\n"
   ]
  },
  {
   "cell_type": "markdown",
   "metadata": {},
   "source": [
    "4. Comparer l’interpolation obtenue grâce à $q$ et au polynôme de Lagrange $p_3$ associés à des points équidistants sur $[0, 1]$ pour la fonction $f(x) = \\sin(2x^2)$, et d’autres fonctions de votre choix."
   ]
  },
  {
   "cell_type": "code",
   "execution_count": null,
   "metadata": {},
   "outputs": [],
   "source": []
  },
  {
   "cell_type": "markdown",
   "metadata": {},
   "source": [
    "<a id=\"tcheby\"></a>\n",
    "## Exercice 4 : Points de Tchebychev vs points équidistants\n",
    "\n",
    "Le but est ici de comparer le terme $N_{n+1}(x) = \\prod_{k=1}^{n+1}{(x-\\xi_k)}$ intervenant dans l’erreur d’interpolation,\n",
    "pour des points équidistants et des points de Tchebychev.\n",
    "1. Écrire une fonction `pointsTcheby` qui prend en arguments deux réels $a$ et $b$ et un entier $n$ et qui rend le vecteur des $n+1$ points de Tchebychev sur l’intervalle $[a, b]$. Les points de Tchebychev sont\n",
    "définis par \n",
    "\n",
    "$$\n",
    "\\xi_{i,n}^T = \\frac{a+b}{2} + \\frac{b-a}{2}\\cos\\left( \\frac{(2i-1)\\pi}{2(n+1)} \\right), ~~ \\forall 1\\leq i \\leq n+1.\n",
    "$$\n",
    "\n"
   ]
  },
  {
   "cell_type": "code",
   "execution_count": null,
   "metadata": {},
   "outputs": [],
   "source": [
    "def pointsTcheby(a,b,n):\n"
   ]
  },
  {
   "cell_type": "markdown",
   "metadata": {},
   "source": [
    "2. Écrire une fonction `funcN` qui à partir un vecteur $x$ et d’un vecteur $\\xi = (\\xi_i)_{0\\leq i \\leq n}$ rend le\n",
    "vecteur $N_{n+1}(x)$. On pourra utiliser la fonction `np.prod` de la librairie numpy."
   ]
  },
  {
   "cell_type": "code",
   "execution_count": null,
   "metadata": {},
   "outputs": [],
   "source": [
    "def funcN(x,xi):\n"
   ]
  },
  {
   "cell_type": "markdown",
   "metadata": {},
   "source": [
    "3. Tracer sur un même graphique (légendé) la fonction $x\\to |N_{n+1}(x)|$ sur l’intervalle $[−1, 1]$ pour les points de Tchebychev d’une part et des points équidistants d’autre part, avec $n = 5$ puis $n = 8$. On pourra utiliser la fonction `np.abs` pour le calcul de la valeur absolue. Que constate-t-on ?"
   ]
  },
  {
   "cell_type": "code",
   "execution_count": null,
   "metadata": {},
   "outputs": [],
   "source": []
  },
  {
   "cell_type": "markdown",
   "metadata": {},
   "source": [
    "<a id=\"runge\"></a>\n",
    "## Exercice 5 : Phénomène de Runge"
   ]
  },
  {
   "cell_type": "markdown",
   "metadata": {},
   "source": [
    "Soit f définie par $f(x) = \\dfrac{1}{1+x^2}$.\n",
    "1. Représenter le graphe de $f$ sur $[−5, 5]$, celui du polynome d’interpolation de Lagrange pour le choix de points équidistant et celui du polynôme d’interpolation de Lagrange pour le choix des points de Tchebychev, pour des valeurs de $n$ de plus en plus grandes. Qu’observe-t-on ?"
   ]
  },
  {
   "cell_type": "code",
   "execution_count": null,
   "metadata": {},
   "outputs": [],
   "source": [
    "def f(x):\n"
   ]
  },
  {
   "cell_type": "markdown",
   "metadata": {},
   "source": [
    "2. Représenter l’évolution de l’erreur $\\|f-p_n\\|_{\\infty}$ en fonction de $n$ pour les deux choix de points. On utilisera une échelle logarithmique avec la fonction `plt.loglog`."
   ]
  },
  {
   "cell_type": "code",
   "execution_count": null,
   "metadata": {},
   "outputs": [],
   "source": []
  }
 ],
 "metadata": {
  "kernelspec": {
   "display_name": "Python 3",
   "language": "python",
   "name": "python3"
  },
  "language_info": {
   "codemirror_mode": {
    "name": "ipython",
    "version": 3
   },
   "file_extension": ".py",
   "mimetype": "text/x-python",
   "name": "python",
   "nbconvert_exporter": "python",
   "pygments_lexer": "ipython3",
   "version": "3.8.10"
  }
 },
 "nbformat": 4,
 "nbformat_minor": 4
}
