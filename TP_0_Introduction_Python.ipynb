{
 "cells": [
  {
   "cell_type": "markdown",
   "metadata": {},
   "source": [
    "---\n",
    "\n",
    "# Introduction à Python pour le calcul scientifique : <br> Utilisation des librairies Numpy et Matplotlib\n",
    "\n",
    "<b>Polytech Sorbonne, Main 3</b><br>\n",
    "Analyse numérique et EDO<br>\n",
    "Auteur : Fabien Vergnet\n",
    "\n",
    "---"
   ]
  },
  {
   "cell_type": "markdown",
   "metadata": {},
   "source": [
    "Ce tutoriel a pour but de vous faire découvrir le language de programmation Python que nous allons utiliser en TP. Pour le calcul scientifique, deux librairies sont extrêmement utiles : Numpy et Matplotlib. Nous allons les présenter dans ce TP d'introduction."
   ]
  },
  {
   "cell_type": "markdown",
   "metadata": {},
   "source": [
    "## Table des matières\n",
    "\n",
    "- [Numpy](#Numpy)\n",
    "- [Matplotlib](#Matplotlib)"
   ]
  },
  {
   "cell_type": "markdown",
   "metadata": {},
   "source": [
    "<a id=\"Numpy\"></a>\n",
    "## Numpy"
   ]
  },
  {
   "cell_type": "markdown",
   "metadata": {},
   "source": [
    "**NumPy** est une librairie très populaire pour le calcul scientifique en Python (voir http://www.numpy.org/). Elle permet de construire des tableaux de dimension $N$ de façon très efficace et fournie, par exemple, des routines d'algèbre linéaire et des générateurs de nombres aléatoires.\n",
    "\n",
    "Dans ce cours d'*Analyse numérique et EDO* nous utiliserons essentiellement **Numpy** pour manipuler des tableaux. Pour les plus curieux d'entre vous, de nombreux exemples peuvent être trouvés sur le web. Ici, nous nous utiliserons des fonctionnalités somme toute assez basiques.\n",
    "\n",
    "Premièrement, il est nécessaire d'importer la librairie **Numpy** :"
   ]
  },
  {
   "cell_type": "code",
   "execution_count": 5,
   "metadata": {},
   "outputs": [],
   "source": [
    "import numpy as np"
   ]
  },
  {
   "cell_type": "markdown",
   "metadata": {},
   "source": [
    "`np` est maintenant un alias qui nous permet d'accéder aux classes et fonctions contenues dans la libraire numpy."
   ]
  },
  {
   "cell_type": "markdown",
   "metadata": {},
   "source": [
    "### Création de tableaux"
   ]
  },
  {
   "cell_type": "code",
   "execution_count": 18,
   "metadata": {},
   "outputs": [
    {
     "name": "stdout",
     "output_type": "stream",
     "text": [
      "a = [[0]\n",
      " [1]\n",
      " [2]\n",
      " [3]]\n",
      "a.shape = (4, 1)\n",
      "a.size = 4\n"
     ]
    }
   ],
   "source": [
    "# Tableau de dimension 1 (Vecteur)\n",
    "a = np.array([[0], [1], [2], [3]])\n",
    "print('a =',a)\n",
    "print('a.shape =',a.shape)\n",
    "print('a.size =',a.size)"
   ]
  },
  {
   "cell_type": "code",
   "execution_count": 7,
   "metadata": {},
   "outputs": [
    {
     "name": "stdout",
     "output_type": "stream",
     "text": [
      "a = [[0 1 2 3]\n",
      " [4 5 6 7]]\n",
      "a.shape = (2, 4)\n",
      "a.size = 8\n"
     ]
    }
   ],
   "source": [
    "# Tableau de dimension 2 (Matrice)\n",
    "L1 = [0, 1, 2, 3]\n",
    "L2 = [4, 5, 6, 7]\n",
    "a = np.array([L1, L2])\n",
    "print('a =', a)\n",
    "print('a.shape =', a.shape)\n",
    "print('a.size =', a.size)"
   ]
  },
  {
   "cell_type": "markdown",
   "metadata": {},
   "source": [
    "**Remarque :** Dans un notebook, on peut utilise l'autocomplétion avec la touche tabulation. On peut également obtenir de l'aide de façon interactive :"
   ]
  },
  {
   "cell_type": "code",
   "execution_count": 8,
   "metadata": {},
   "outputs": [],
   "source": [
    "np.array?"
   ]
  },
  {
   "cell_type": "markdown",
   "metadata": {},
   "source": [
    "Il existe plusieurs fonctions numpy pour créer des tableaux."
   ]
  },
  {
   "cell_type": "code",
   "execution_count": 14,
   "metadata": {},
   "outputs": [
    {
     "name": "stdout",
     "output_type": "stream",
     "text": [
      "c = [0.  0.5 1. ]\n"
     ]
    }
   ],
   "source": [
    "# En imposant le nombre d'éléments\n",
    "c = np.linspace(0, 1, 3)   # début, fin, nombre d'éléments\n",
    "print('c =', c)"
   ]
  },
  {
   "cell_type": "code",
   "execution_count": 11,
   "metadata": {},
   "outputs": [
    {
     "name": "stdout",
     "output_type": "stream",
     "text": [
      "a = [0 1 2 3 4 5 6 7 8 9]\n",
      "b = [1 3 5 7]\n",
      "c = [1.  1.1 1.2 1.3 1.4 1.5 1.6 1.7 1.8 1.9]\n"
     ]
    }
   ],
   "source": [
    "# En imposant le pas de discrétisation (l'écart entre deux éléments consécutifs)\n",
    "a = np.arange(0,10,1) # 0 .. n-1  (!) pas=1\n",
    "b = np.arange(1, 9, 2) # début, fin (exclusif), pas\n",
    "c = np.arange(1, 2, 0.1) # début, fin (exclusif), pas\n",
    "print('a =', a)\n",
    "print('b =', b)\n",
    "print('c =', c)"
   ]
  },
  {
   "cell_type": "code",
   "execution_count": 12,
   "metadata": {},
   "outputs": [
    {
     "name": "stdout",
     "output_type": "stream",
     "text": [
      "a = [0. 0.]\n",
      "b = [1. 1. 1.]\n",
      "c = [[0. 0. 0.]\n",
      " [0. 0. 0.]]\n"
     ]
    }
   ],
   "source": [
    "# Tableaux de zéros et de uns\n",
    "a = np.zeros(2) # 1 dimension, nombre d'éléments\n",
    "b = np.ones(3) # 1 dimension, nombre d'éléments\n",
    "c = np.zeros((2, 3)) # 2-dimensions, tuple (nombre de lignes, nombre de colonnes)\n",
    "print('a =', a)\n",
    "print('b =', b)\n",
    "print('c =', c)"
   ]
  },
  {
   "cell_type": "code",
   "execution_count": 19,
   "metadata": {},
   "outputs": [
    {
     "name": "stdout",
     "output_type": "stream",
     "text": [
      "a = [[1.82025683 3.81314671 3.28578275]\n",
      " [2.76948466 1.94562143 4.36936415]\n",
      " [3.98635492 1.08279734 3.63305393]]\n",
      "b = [ 1.62242837 -0.64856743 -0.4269511   0.01842231]\n"
     ]
    }
   ],
   "source": [
    "# Initialisation aléatoire\n",
    "a = 4*np.random.rand(3,3) + 1 # uniforme sur [1,5]\n",
    "b = np.random.randn(4) # gaussien\n",
    "print('a =', a)\n",
    "print('b =', b)"
   ]
  },
  {
   "cell_type": "markdown",
   "metadata": {},
   "source": [
    "### Exercice\n",
    "1. Créer un vecteur nul de taille 10.\n",
    "2. Créer un vecteur contenant tous les entier de 10 à 49 (inclus).\n",
    "3. Créer un vecteur contenant une discrétisation de l'intervalle [0,1] avec 100 points.\n",
    "4. Créer une matrice de taille 3x3 contenant des valeurs aléatoires.\n",
    "\n",
    "Pour chaque question, on affichera la taille (`size`) et la forme (`shape`) du tableau."
   ]
  },
  {
   "cell_type": "code",
   "execution_count": 1,
   "metadata": {},
   "outputs": [],
   "source": [
    "#écrire ici"
   ]
  },
  {
   "cell_type": "markdown",
   "metadata": {},
   "source": [
    "### Indexation des tableaux\n",
    "\n",
    "En Python, les indices des tableaux commencent à 0. Il est également possible de parcourir le tableaux à partid de la fin en utilisant des indices négatifs. Le symbole `:` permet d'extraire une plage de valeurs."
   ]
  },
  {
   "cell_type": "code",
   "execution_count": 33,
   "metadata": {},
   "outputs": [
    {
     "name": "stdout",
     "output_type": "stream",
     "text": [
      "a :  [0 1 2 3 4 5 6 7 8 9]\n",
      "Premier élément :  0\n",
      "Dernier élément :  9 9\n",
      "Avant avant dernier élément :  7\n",
      "Élements 2 à 8 :  [1 3 5 7]\n",
      "Extraire les éléments deux à deux :  [0 2 4 6 8] [0 2 4 6 8] [0 2 4 6 8]\n"
     ]
    }
   ],
   "source": [
    "# Tableau de dimension 1\n",
    "a = np.arange(10)\n",
    "print(\"a : \",a)\n",
    "print(\"Premier élément : \",a[0])\n",
    "print(\"Dernier élément : \",a[9], a[-1])\n",
    "print(\"Avant avant dernier élément : \", a[-3])\n",
    "print(\"Élements 2 à 8 : \", a[1:9:2])\n",
    "print(\"Extraire les éléments deux à deux : \",a[::2], a[0:9:2], a[0:-1:2] ) # début, fin, pas"
   ]
  },
  {
   "cell_type": "code",
   "execution_count": 34,
   "metadata": {},
   "outputs": [
    {
     "name": "stdout",
     "output_type": "stream",
     "text": [
      "M : [[3 4 6 2]\n",
      " [2 5 7 9]]\n",
      "M[1,3] 9\n",
      "2e colonne :  [4 5]\n",
      "1ere ligne :  [3 4 6 2]\n",
      "Toutes les lignes et une colonne sur deux :\n",
      " [[3 6]\n",
      " [2 7]]\n"
     ]
    }
   ],
   "source": [
    "# Tableau de dimension 2\n",
    "L1 = [3,4,6,2]\n",
    "L2 = [2,5,7,9]\n",
    "M = np.array([L1,L2])\n",
    "print(\"M :\", M)\n",
    "print(\"M[1,3]\",M[1,3])\n",
    "print(\"2e colonne : \", M[:,1])\n",
    "print(\"1ere ligne : \", M[0,:])\n",
    "print(\"Toutes les lignes et une colonne sur deux :\\n\",M[:,::2])"
   ]
  },
  {
   "cell_type": "markdown",
   "metadata": {},
   "source": [
    "### Exercice\n",
    "1. Construire une matrice de taille 10x10 qui ne contient que des 1 sur les bords et des zéros à l'intérieur.\n",
    "2. Construire une matrice de taille 8x8 et la remplir en alternant 0 et 1 (comme un damier)."
   ]
  },
  {
   "cell_type": "code",
   "execution_count": 2,
   "metadata": {},
   "outputs": [],
   "source": [
    "#écrire ici"
   ]
  },
  {
   "cell_type": "markdown",
   "metadata": {},
   "source": [
    "### Boucle et tableaux\n",
    "\n",
    "On peut également utiliser des boucles pour parcourir un tableau."
   ]
  },
  {
   "cell_type": "code",
   "execution_count": 51,
   "metadata": {},
   "outputs": [
    {
     "name": "stdout",
     "output_type": "stream",
     "text": [
      "[[ 9. 12. 15. 18.]\n",
      " [12. 17. 22. 27.]\n",
      " [15. 22. 29. 36.]]\n"
     ]
    }
   ],
   "source": [
    "a = np.zeros((3,4))\n",
    "for i in range(a.shape[0]):\n",
    "    for j in range(a.shape[1]):\n",
    "        a[i,j] = (i+3)*(j+3)+i*j\n",
    "print(a)"
   ]
  },
  {
   "cell_type": "markdown",
   "metadata": {},
   "source": [
    "Quand c'est possible, il est préférable d'utiliser directement des opérations sur les tableaux plutôt que des boucles."
   ]
  },
  {
   "cell_type": "code",
   "execution_count": 52,
   "metadata": {},
   "outputs": [
    {
     "name": "stdout",
     "output_type": "stream",
     "text": [
      "100 µs ± 4.39 µs per loop (mean ± std. dev. of 7 runs, 10000 loops each)\n"
     ]
    }
   ],
   "source": [
    "# Calcul de 3*a + 1 élément par élément\n",
    "N = 100\n",
    "a = np.linspace(0,1,N)\n",
    "b = np.zeros(a.size)\n",
    "%timeit for i in range(a.size): b[i] = 3*a[i]+1"
   ]
  },
  {
   "cell_type": "code",
   "execution_count": 53,
   "metadata": {},
   "outputs": [
    {
     "name": "stdout",
     "output_type": "stream",
     "text": [
      "2.81 µs ± 316 ns per loop (mean ± std. dev. of 7 runs, 100000 loops each)\n"
     ]
    }
   ],
   "source": [
    "# Calcul de 3*a + 1 de façon vectorielle\n",
    "N = 100\n",
    "a = np.linspace(0,1,N)\n",
    "%timeit b = 3*a+1"
   ]
  },
  {
   "cell_type": "markdown",
   "metadata": {},
   "source": [
    "D'autant plus que **Numpy** optimise la plupart des fonctions mathématiques usuelles pour le calcul vectoriel."
   ]
  },
  {
   "cell_type": "code",
   "execution_count": 54,
   "metadata": {},
   "outputs": [
    {
     "name": "stdout",
     "output_type": "stream",
     "text": [
      "test 1\n",
      "62.6 ms ± 4.46 ms per loop (mean ± std. dev. of 7 runs, 10 loops each)\n",
      "test 2\n",
      "265 µs ± 13.7 µs per loop (mean ± std. dev. of 7 runs, 1000 loops each)\n"
     ]
    }
   ],
   "source": [
    "def f(x):\n",
    "    return np.exp(-x*x)*np.log(1 + x*np.sin(x))\n",
    "\n",
    "print(\"test 1\")\n",
    "x = np.linspace(0, 1, 10000)\n",
    "a = np.zeros(x.size)\n",
    "%timeit for i in range(x.size): a[i] = f(x[i])\n",
    "\n",
    "print(\"test 2\")\n",
    "x = np.linspace(0, 1, 10000)\n",
    "%timeit a = f(x)"
   ]
  },
  {
   "cell_type": "markdown",
   "metadata": {},
   "source": [
    "### Exercice\n",
    "1. Construire une fonction qui étant donné un entier N rend un tableau de taille Nx2 représentant des coordonnées cartésiennes.\n",
    "2. Construire une fonction qui étant donné un tableau de coordonnées cartésiennes rend un tableau de même taille contenant leur équivalent en coordonnées polaires."
   ]
  },
  {
   "cell_type": "code",
   "execution_count": 3,
   "metadata": {},
   "outputs": [],
   "source": [
    "#écrire ici"
   ]
  },
  {
   "cell_type": "markdown",
   "metadata": {},
   "source": [
    "<a id=\"Matplotlib\"></a>\n",
    "## Matplotlib\n",
    "\n",
    "**Matplotlib** est une librairie Python pour la représentation graphique en 2D. Il peut être utiliser au sein d'un notebook jupyter directement pour produire des figures.\n",
    "\n",
    "**Matplotlib** is a Python package for 2 dimensional plots. It can be used to produce figures inline in jupyter  notebooks. Lot of documentations about numpy can be found on the web, we give below basic examples that will be usefull in the following.\n",
    "\n",
    "First, we need to import the matplotlib package."
   ]
  },
  {
   "cell_type": "code",
   "execution_count": 62,
   "metadata": {},
   "outputs": [],
   "source": [
    "# Nécessaire pour éxecuter matplotlib dans un notebook\n",
    "%matplotlib inline   \n",
    "\n",
    "# Charger les librairies\n",
    "import matplotlib.pyplot as plt # librairie graphique\n",
    "import numpy as np              # librairie pour le calcul scientifique"
   ]
  },
  {
   "cell_type": "markdown",
   "metadata": {},
   "source": [
    "### Un premier graphique\n",
    "\n",
    "Traçons les graphes des fonctions cosinus et sinus entre $[-\\pi,\\pi]$."
   ]
  },
  {
   "cell_type": "code",
   "execution_count": 63,
   "metadata": {},
   "outputs": [
    {
     "data": {
      "image/png": "[encoded data removed]",
      "text/plain": [
       "<Figure size 432x288 with 1 Axes>"
      ]
     },
     "metadata": {
      "needs_background": "light"
     },
     "output_type": "display_data"
    }
   ],
   "source": [
    "X = np.linspace(-np.pi, np.pi, 30)\n",
    "COS, SIN = np.cos(X), np.sin(X)\n",
    "plt.plot(X,COS)\n",
    "plt.plot(X, SIN)\n",
    "plt.show()"
   ]
  },
  {
   "cell_type": "markdown",
   "metadata": {},
   "source": [
    "### Modifier les propriétés d'une figure\n",
    "\n",
    "La plupart des propriétés d'une figure peuvent être modifiées : la couleur et le style des courbes, le titre de la figure, la légende, le axes... Traçons de nouveau les graphes des fonctions cosinus et sinus en spécifiant certaines de ces propriétés."
   ]
  },
  {
   "cell_type": "code",
   "execution_count": 65,
   "metadata": {},
   "outputs": [
    {
     "data": {
      "image/png": "[encoded data removed]",
      "text/plain": [
       "<Figure size 720x360 with 1 Axes>"
      ]
     },
     "metadata": {
      "needs_background": "light"
     },
     "output_type": "display_data"
    }
   ],
   "source": [
    "# Créer une figure de taille 10x5 pouces (1 pouce = 2.54 cm)\n",
    "fig = plt.figure(figsize=(10, 5))\n",
    "\n",
    "# On trace la fonction cosinus, ligne bleu continue (style), width=1 (épaisseur du trait), label=cosinus (pour la légende)\n",
    "plt.plot(X, COS, color=\"blue\", linestyle=\"-\", linewidth=1, label='$cosinus$')\n",
    "\n",
    "# On trace la fonction sinus, ligne rouge en pointillés (style), width=1 (épaisseur du trait), label=sinus\n",
    "plt.plot(X, SIN, color=\"red\", linestyle=\"-\", linewidth=1, label='$sinus$')\n",
    "\n",
    "# On donne les limite de la figure\n",
    "plt.xlim(-np.pi*1.1, np.pi*1.1)\n",
    "plt.ylim(-1.1, 1.1)\n",
    "\n",
    "# On nomme l'axe des abscisses\n",
    "plt.xlabel('x', fontsize=18)\n",
    "\n",
    "# On ajoute un titre\n",
    "plt.title('Les fonctions cosinus et sinus', fontsize=18)\n",
    "\n",
    "# On ajoute une légende dans le coin supérieur droit\n",
    "plt.legend()\n",
    "\n",
    "# On affiche la figure\n",
    "plt.show()"
   ]
  },
  {
   "cell_type": "markdown",
   "metadata": {},
   "source": [
    "### Exercice \n",
    "\n",
    "Sur la figure ci-dessus, ajouter les courbes des fonctions $x\\to 1- \\cos(x)$ et $x \\to x - \\sin(x)$ pour tout $x$ dans $[0,\\pi]$. Choisissez vous-même le style des courbes et ajoutez les à la légende."
   ]
  },
  {
   "cell_type": "markdown",
   "metadata": {},
   "source": [
    "### Tracer des sous-figures\n",
    "\n",
    "Pour Matplotlib, une \"figure\" signifie la fenêtre graphique entière. À l'intérieur d'une figure, nous pouvons néanmoins tracer des `subplots`, c'est-à-dire des sous-figures."
   ]
  },
  {
   "cell_type": "code",
   "execution_count": 66,
   "metadata": {},
   "outputs": [
    {
     "data": {
      "image/png": "[encoded data removed]",
      "text/plain": [
       "<Figure size 720x360 with 2 Axes>"
      ]
     },
     "metadata": {
      "needs_background": "light"
     },
     "output_type": "display_data"
    }
   ],
   "source": [
    "# Créer la figure\n",
    "fig = plt.figure(figsize=(10, 5))\n",
    "\n",
    "# Création d'un 'subplot' \n",
    "# arguments: (nombre lignes, nombre colonnes, numéro du subplot courant)\n",
    "plt.subplot(1, 2, 1)  # grid 1 x 2, subplot courant =1\n",
    "plt.plot(X, COS, color=\"blue\", linestyle=\"-\", linewidth=1)\n",
    "plt.xlim(-np.pi*1.1, np.pi*1.1)\n",
    "plt.ylim(-1.1, 1.1)\n",
    "plt.title('Function cosinus', fontsize=18)\n",
    "\n",
    "# Création du second subplot \n",
    "plt.subplot(1, 2, 2)  # grid 1 x 2, subplot courant = 2\n",
    "plt.plot(X, SIN, color=\"red\", linestyle=\"-\", linewidth=1)\n",
    "plt.xlim(-np.pi*1.1, np.pi*1.1)\n",
    "plt.ylim(-1.1, 1.1)\n",
    "plt.title('Function sinus', fontsize=18)\n",
    "\n",
    "plt.show()"
   ]
  },
  {
   "cell_type": "markdown",
   "metadata": {},
   "source": [
    "### Pour imposer la même échelle sur les deux axes"
   ]
  },
  {
   "cell_type": "code",
   "execution_count": 67,
   "metadata": {},
   "outputs": [
    {
     "data": {
      "image/png": "[encoded data removed]",
      "text/plain": [
       "<Figure size 1080x360 with 2 Axes>"
      ]
     },
     "metadata": {
      "needs_background": "light"
     },
     "output_type": "display_data"
    }
   ],
   "source": [
    "# Création de la figure\n",
    "fig = plt.figure(figsize=(15, 5))\n",
    "\n",
    "# Création du premier subplot \n",
    "plt.subplot(1, 2, 1)  # grid 1 x 2, current plot =1\n",
    "plt.plot(COS, SIN, color=\"blue\", linestyle=\"-\", linewidth=1)\n",
    "plt.title(\"Sans l'option 'equal'\", fontsize=18)\n",
    "\n",
    "# Création du second subplot \n",
    "plt.subplot(1, 2, 2)  # grid 1 x 2, current plot = 2\n",
    "plt.axis('equal')\n",
    "plt.plot(COS, SIN, color=\"red\", linestyle=\"-\", linewidth=1)\n",
    "plt.title(\"Avec l'option 'equal'\", fontsize=18)\n",
    "\n",
    "plt.show()"
   ]
  },
  {
   "cell_type": "markdown",
   "metadata": {},
   "source": [
    "## Pour aller plus loin\n",
    "\n",
    "De la documentation et des tutoriels sur disponibles sur le web pour prendre en main Numpy et Matplotlib. Un tutoriel très complet pour le calcul scientifique en Python peut par exemple être trouvé ici http://www.scipy-lectures.org/index.html. Les deux chapitres suivants son particulièrement intéressant :\n",
    "\n",
    "- Numpy: http://www.scipy-lectures.org/intro/numpy/index.html\n",
    "- Matplotlib: http://www.scipy-lectures.org/intro/matplotlib/index.html"
   ]
  },
  {
   "cell_type": "code",
   "execution_count": null,
   "metadata": {},
   "outputs": [],
   "source": []
  }
 ],
 "metadata": {
  "kernelspec": {
   "display_name": "Python 3",
   "language": "python",
   "name": "python3"
  },
  "language_info": {
   "codemirror_mode": {
    "name": "ipython",
    "version": 3
   },
   "file_extension": ".py",
   "mimetype": "text/x-python",
   "name": "python",
   "nbconvert_exporter": "python",
   "pygments_lexer": "ipython3",
   "version": "3.8.10"
  }
 },
 "nbformat": 4,
 "nbformat_minor": 4
}
